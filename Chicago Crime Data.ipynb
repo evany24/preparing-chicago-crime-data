{
 "cells": [
  {
   "cell_type": "code",
   "execution_count": 1,
   "id": "bba1dbae",
   "metadata": {},
   "outputs": [
    {
     "ename": "ModuleNotFoundError",
     "evalue": "No module named 'holidays'",
     "output_type": "error",
     "traceback": [
      "\u001b[1;31m---------------------------------------------------------------------------\u001b[0m",
      "\u001b[1;31mModuleNotFoundError\u001b[0m                       Traceback (most recent call last)",
      "Cell \u001b[1;32mIn [1], line 26\u001b[0m\n\u001b[0;32m     23\u001b[0m \u001b[38;5;66;03m# get peaks (max point) of each season\u001b[39;00m\n\u001b[0;32m     24\u001b[0m \u001b[38;5;28;01mfrom\u001b[39;00m \u001b[38;5;21;01mscipy\u001b[39;00m\u001b[38;5;21;01m.\u001b[39;00m\u001b[38;5;21;01msignal\u001b[39;00m \u001b[38;5;28;01mimport\u001b[39;00m find_peaks\n\u001b[1;32m---> 26\u001b[0m \u001b[38;5;28;01mimport\u001b[39;00m \u001b[38;5;21;01mholidays\u001b[39;00m\n\u001b[0;32m     27\u001b[0m \u001b[38;5;28;01mimport\u001b[39;00m \u001b[38;5;21;01mdatetime\u001b[39;00m \u001b[38;5;28;01mas\u001b[39;00m \u001b[38;5;21;01mdt\u001b[39;00m\n\u001b[0;32m     28\u001b[0m \u001b[38;5;28;01mfrom\u001b[39;00m \u001b[38;5;21;01mholidays\u001b[39;00m \u001b[38;5;28;01mimport\u001b[39;00m country_holidays\n",
      "\u001b[1;31mModuleNotFoundError\u001b[0m: No module named 'holidays'"
     ]
    }
   ],
   "source": [
    "#imports\n",
    "import pandas as pd\n",
    "import numpy as np\n",
    "import matplotlib.pyplot as plt\n",
    "import seaborn as sns\n",
    "\n",
    "import datetime as dt\n",
    "\n",
    "#import tick customization tools\n",
    "import matplotlib.ticker as mticks\n",
    "import matplotlib.dates as mdates\n",
    "import matplotlib.ticker as ticker\n",
    "\n",
    "# list of named time zones\n",
    "import pytz\n",
    "#all_tzs = pytz.all_timezones\n",
    "#len(all_tzs)\n",
    "\n",
    "# import the statsmodels time series analysis api module\n",
    "# seasonal decompose\n",
    "import statsmodels.tsa.api as tsa\n",
    "\n",
    "# get peaks (max point) of each season\n",
    "from scipy.signal import find_peaks\n",
    "\n",
    "import holidays\n",
    "import datetime as dt\n",
    "from holidays import country_holidays\n",
    "\n",
    "import glob\n",
    "\n",
    "\n",
    "import warnings\n",
    "warnings.filterwarnings('ignore')"
   ]
  },
  {
   "cell_type": "code",
   "execution_count": null,
   "id": "efc26e64",
   "metadata": {},
   "outputs": [],
   "source": [
    "q = 'Data/Chicago/Chicago-Crime_*.csv'\n",
    "chunked_files = glob.glob(q)\n",
    "# Showing the first 5\n",
    "chunked_files"
   ]
  },
  {
   "cell_type": "code",
   "execution_count": null,
   "id": "4a606be1",
   "metadata": {},
   "outputs": [],
   "source": [
    "## Loading and Concatenating the list of dfs with 1 line\n",
    "df_combined = pd.concat([pd.read_csv(file, index_col=0) for file in chunked_files])\n",
    "df_combined"
   ]
  },
  {
   "cell_type": "code",
   "execution_count": null,
   "id": "bbe30121",
   "metadata": {},
   "outputs": [],
   "source": [
    "df = df_combined.copy()\n",
    "df.info()"
   ]
  },
  {
   "cell_type": "code",
   "execution_count": null,
   "id": "4604c2db",
   "metadata": {},
   "outputs": [],
   "source": [
    "# Set options\n",
    "pd.set_option('display.max_columns',100)\n",
    "# Customize figure style for stakeholder-facing visualizations\n",
    "plt.style.use(('ggplot','fivethirtyeight'))\n",
    "sns.set_context('notebook', font_scale=1.2)\n",
    "plt.rcParams['figure.figsize'] = (12,4)\n",
    "plt.rcParams['savefig.transparent'] = False\n",
    "plt.rcParams['savefig.bbox'] = 'tight'"
   ]
  },
  {
   "cell_type": "code",
   "execution_count": null,
   "id": "baf23e1a",
   "metadata": {},
   "outputs": [],
   "source": [
    "df.head()"
   ]
  },
  {
   "cell_type": "code",
   "execution_count": null,
   "id": "8a540403",
   "metadata": {},
   "outputs": [],
   "source": [
    "fmt = '%m/%d/%Y %I:%M:%S %p'"
   ]
  },
  {
   "cell_type": "code",
   "execution_count": null,
   "id": "917bcd89",
   "metadata": {},
   "outputs": [],
   "source": [
    "df['Datetime'] = pd.to_datetime(df['Date'], format=fmt)"
   ]
  },
  {
   "cell_type": "code",
   "execution_count": null,
   "id": "db587400",
   "metadata": {},
   "outputs": [],
   "source": [
    "df.head()"
   ]
  },
  {
   "cell_type": "code",
   "execution_count": null,
   "id": "0c80175d",
   "metadata": {},
   "outputs": [],
   "source": [
    "df.info()"
   ]
  },
  {
   "cell_type": "code",
   "execution_count": null,
   "id": "733e2c54",
   "metadata": {},
   "outputs": [],
   "source": [
    "df = df.set_index('Datetime')\n",
    "df.head(2)"
   ]
  },
  {
   "cell_type": "code",
   "execution_count": null,
   "id": "41effa47",
   "metadata": {},
   "outputs": [],
   "source": [
    "df.drop(columns=['Latitude', 'Longitude', 'Date'], inplace=True)\n",
    "df.head(2)"
   ]
  },
  {
   "cell_type": "code",
   "execution_count": null,
   "id": "fe4f4e79",
   "metadata": {},
   "outputs": [],
   "source": [
    "df['Primary Type'].value_counts().index.sort_values()"
   ]
  },
  {
   "cell_type": "code",
   "execution_count": null,
   "id": "42df8927",
   "metadata": {},
   "outputs": [],
   "source": [
    "df['Primary Type'] = df['Primary Type'].replace({'CRIM SEXUAL ASSAULT': 'CRIMINAL SEXUAL ASSAULT'})"
   ]
  },
  {
   "cell_type": "code",
   "execution_count": null,
   "id": "56334074",
   "metadata": {},
   "outputs": [],
   "source": [
    "df['Primary Type'].value_counts().index.sort_values()"
   ]
  },
  {
   "cell_type": "code",
   "execution_count": null,
   "id": "e18ee348",
   "metadata": {},
   "outputs": [],
   "source": [
    "print(df['Primary Type'].unique())\n",
    "len(df['Primary Type'].unique())"
   ]
  },
  {
   "cell_type": "code",
   "execution_count": null,
   "id": "e4ac62aa",
   "metadata": {},
   "outputs": [],
   "source": [
    "non_crime = df['Primary Type'].str.startswith('NON')"
   ]
  },
  {
   "cell_type": "code",
   "execution_count": null,
   "id": "57ffe8ff",
   "metadata": {},
   "outputs": [],
   "source": [
    "df1 = df[~non_crime]\n",
    "df1"
   ]
  },
  {
   "cell_type": "code",
   "execution_count": null,
   "id": "54c7fda6",
   "metadata": {},
   "outputs": [],
   "source": [
    "len(df1['Primary Type'].unique())"
   ]
  },
  {
   "cell_type": "code",
   "execution_count": null,
   "id": "cac871a2",
   "metadata": {},
   "outputs": [],
   "source": [
    "plot_1 = df1['District'].value_counts().sort_values()\n",
    "plot_1"
   ]
  },
  {
   "cell_type": "code",
   "execution_count": null,
   "id": "63f5a108",
   "metadata": {},
   "outputs": [],
   "source": [
    "plot_1.values.sum()"
   ]
  },
  {
   "cell_type": "code",
   "execution_count": null,
   "id": "37f8f3a0",
   "metadata": {},
   "outputs": [],
   "source": [
    "fig, ax = plt.subplots(figsize=(15, 10))\n",
    "plot_1.plot(kind='barh')\n",
    "\n",
    "plt.xlabel('Count of Crimes')\n",
    "plt.ylabel('District Number')\n",
    "plt.title('Crimes by District');"
   ]
  },
  {
   "cell_type": "code",
   "execution_count": null,
   "id": "fa08ec08",
   "metadata": {},
   "outputs": [],
   "source": [
    "df2 = df[~non_crime]"
   ]
  },
  {
   "cell_type": "code",
   "execution_count": null,
   "id": "8751d6d6",
   "metadata": {},
   "outputs": [],
   "source": [
    "df2['Year'] = df2.index.year"
   ]
  },
  {
   "cell_type": "code",
   "execution_count": null,
   "id": "5cbb05ee",
   "metadata": {},
   "outputs": [],
   "source": [
    "df2['Year'].value_counts().sort_index(ascending = False)"
   ]
  },
  {
   "cell_type": "code",
   "execution_count": null,
   "id": "d5f56255",
   "metadata": {},
   "outputs": [],
   "source": [
    "## save year counts\n",
    "year_counts = df2['Year'].value_counts().sort_index()\n",
    "year_counts.plot(style='o-',grid=True,ylabel='# of Crimes', xlabel='Year')\n",
    "\n",
    "plt.xticks(np.arange(2001, 2023, step=2));"
   ]
  },
  {
   "cell_type": "code",
   "execution_count": null,
   "id": "1e0b8767",
   "metadata": {},
   "outputs": [],
   "source": [
    "df2"
   ]
  },
  {
   "cell_type": "code",
   "execution_count": null,
   "id": "c2554fef",
   "metadata": {},
   "outputs": [],
   "source": [
    "plot_type = df2.groupby('Primary Type').resample('M').size()"
   ]
  },
  {
   "cell_type": "code",
   "execution_count": null,
   "id": "d85468b6",
   "metadata": {},
   "outputs": [],
   "source": [
    "plot_type = plot_type.unstack().T\n",
    "plot_type"
   ]
  },
  {
   "cell_type": "code",
   "execution_count": null,
   "id": "98045ad5",
   "metadata": {},
   "outputs": [],
   "source": [
    "plot_type = plot_type.fillna(0.0)\n",
    "plot_type.isna().sum().sum()"
   ]
  },
  {
   "cell_type": "code",
   "execution_count": null,
   "id": "bc31427c",
   "metadata": {},
   "outputs": [],
   "source": [
    "fig, axes = plt.subplots(11, 3, figsize=(15,30))\n",
    "\n",
    "for indx, crime in enumerate(plot_type.columns):\n",
    "    row = indx // 3\n",
    "    col = indx % 3\n",
    "    ts = plot_type[crime]\n",
    "    decomp = tsa.seasonal_decompose(ts)\n",
    "    \n",
    "    decomp.trend.plot(title=f'{crime} Trend', ax = axes[row, col])\n",
    "    axes[row, col].set_title(f'Trend {crime}')\n",
    "plt.tight_layout()"
   ]
  },
  {
   "cell_type": "code",
   "execution_count": null,
   "id": "810e0cf4",
   "metadata": {},
   "outputs": [],
   "source": [
    "df4 = df[~non_crime]"
   ]
  },
  {
   "cell_type": "code",
   "execution_count": null,
   "id": "e7a59a49",
   "metadata": {},
   "outputs": [],
   "source": [
    "df4['Month'] = df4.index.month\n",
    "df4['MonthName'] = df4.index.month_name()\n",
    "df4.head(3)"
   ]
  },
  {
   "cell_type": "code",
   "execution_count": null,
   "id": "d6226add",
   "metadata": {},
   "outputs": [],
   "source": [
    "# saving lookup for number vs name\n",
    "unique_months = df4.drop_duplicates(subset=['Month']).sort_values('Month')\n",
    "month_lookup =dict(zip(unique_months['Month'],unique_months['MonthName']))\n",
    "month_lookup"
   ]
  },
  {
   "cell_type": "code",
   "execution_count": null,
   "id": "fd79fffa",
   "metadata": {},
   "outputs": [],
   "source": [
    "ax = sns.countplot(data=df4, x='MonthName',palette='dark',order=month_lookup.values());\n",
    "# Rotate xtick labels and align the text to the bar\n",
    "ax.set_xticklabels(ax.get_xticklabels(), rotation=45, ha='right');"
   ]
  },
  {
   "cell_type": "code",
   "execution_count": null,
   "id": "1ec6d33a",
   "metadata": {},
   "outputs": [],
   "source": [
    "## save month counts\n",
    "# month_lookup.values() will reorder df['MonthName'].value_counts() by month\n",
    "month_counts = df4['MonthName'].value_counts()[month_lookup.values()]\n",
    "# year_counts = df.groupby(\"Year\").size()\n",
    "ax = month_counts.plot(style='o-',grid=True,\n",
    "                       ylabel='# of Crimes',\n",
    "                       xlabel='Month');"
   ]
  },
  {
   "cell_type": "code",
   "execution_count": null,
   "id": "2adf1e41",
   "metadata": {},
   "outputs": [],
   "source": [
    "df4"
   ]
  },
  {
   "cell_type": "code",
   "execution_count": null,
   "id": "54f13541",
   "metadata": {},
   "outputs": [],
   "source": [
    "plot_type4.index"
   ]
  },
  {
   "cell_type": "code",
   "execution_count": null,
   "id": "053168d9",
   "metadata": {},
   "outputs": [],
   "source": [
    "plot_type4 = df4.groupby('Primary Type')['Month', 'MonthName'].value_counts().sort_index()\n",
    "plot_type4"
   ]
  },
  {
   "cell_type": "code",
   "execution_count": null,
   "id": "c5a77bf2",
   "metadata": {},
   "outputs": [],
   "source": [
    "plot_type4_df = plot_type4.to_frame('# of Crimes').reset_index()\n",
    "plot_type4_df"
   ]
  },
  {
   "cell_type": "code",
   "execution_count": null,
   "id": "e2d1a542",
   "metadata": {},
   "outputs": [],
   "source": [
    "g = sns.catplot(data=plot_type4_df, x='MonthName', y='# of Crimes',\n",
    "                kind='point',aspect=3, height=4,\n",
    "                hue='Primary Type', col='Primary Type',col_wrap=2,\n",
    "               sharey=False, sharex=False)\n",
    "[ax.grid(axis='x') for ax in g.axes];"
   ]
  },
  {
   "cell_type": "code",
   "execution_count": null,
   "id": "7cd6a6e8",
   "metadata": {},
   "outputs": [],
   "source": []
  },
  {
   "cell_type": "code",
   "execution_count": null,
   "id": "fe952de8",
   "metadata": {},
   "outputs": [],
   "source": []
  }
 ],
 "metadata": {
  "kernelspec": {
   "display_name": "Python (dojo-env)",
   "language": "python",
   "name": "dojo-env"
  },
  "language_info": {
   "codemirror_mode": {
    "name": "ipython",
    "version": 3
   },
   "file_extension": ".py",
   "mimetype": "text/x-python",
   "name": "python",
   "nbconvert_exporter": "python",
   "pygments_lexer": "ipython3",
   "version": "3.9.15"
  },
  "toc": {
   "base_numbering": 1,
   "nav_menu": {},
   "number_sections": true,
   "sideBar": true,
   "skip_h1_title": false,
   "title_cell": "Table of Contents",
   "title_sidebar": "Contents",
   "toc_cell": false,
   "toc_position": {},
   "toc_section_display": true,
   "toc_window_display": false
  }
 },
 "nbformat": 4,
 "nbformat_minor": 5
}
